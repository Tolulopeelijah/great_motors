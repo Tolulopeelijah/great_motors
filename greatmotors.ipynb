{
  "cells": [
    {
      "cell_type": "markdown",
      "metadata": {
        "id": "view-in-github",
        "colab_type": "text"
      },
      "source": [
        "<a href=\"https://colab.research.google.com/github/Tolulopeelijah/great_motors/blob/main/greatmotors.ipynb\" target=\"_parent\"><img src=\"https://colab.research.google.com/assets/colab-badge.svg\" alt=\"Open In Colab\"/></a>"
      ]
    },
    {
      "cell_type": "markdown",
      "id": "8d9d9d89",
      "metadata": {
        "id": "8d9d9d89"
      },
      "source": [
        "# importing libaries"
      ]
    },
    {
      "cell_type": "code",
      "source": [
        "! pip install catboost"
      ],
      "metadata": {
        "colab": {
          "base_uri": "https://localhost:8080/"
        },
        "id": "MI2DiSLHp9Yf",
        "outputId": "2c12fe73-42da-459d-d918-6638ddb74c2c"
      },
      "id": "MI2DiSLHp9Yf",
      "execution_count": null,
      "outputs": [
        {
          "output_type": "stream",
          "name": "stdout",
          "text": [
            "Looking in indexes: https://pypi.org/simple, https://us-python.pkg.dev/colab-wheels/public/simple/\n",
            "Collecting catboost\n",
            "  Downloading catboost-1.1.1-cp38-none-manylinux1_x86_64.whl (76.6 MB)\n",
            "\u001b[2K     \u001b[90m━━━━━━━━━━━━━━━━━━━━━━━━━━━━━━━━━━━━━━━━\u001b[0m \u001b[32m76.6/76.6 MB\u001b[0m \u001b[31m11.5 MB/s\u001b[0m eta \u001b[36m0:00:00\u001b[0m\n",
            "\u001b[?25hRequirement already satisfied: six in /usr/local/lib/python3.8/dist-packages (from catboost) (1.15.0)\n",
            "Requirement already satisfied: pandas>=0.24.0 in /usr/local/lib/python3.8/dist-packages (from catboost) (1.3.5)\n",
            "Requirement already satisfied: scipy in /usr/local/lib/python3.8/dist-packages (from catboost) (1.7.3)\n",
            "Requirement already satisfied: numpy>=1.16.0 in /usr/local/lib/python3.8/dist-packages (from catboost) (1.21.6)\n",
            "Requirement already satisfied: matplotlib in /usr/local/lib/python3.8/dist-packages (from catboost) (3.2.2)\n",
            "Requirement already satisfied: graphviz in /usr/local/lib/python3.8/dist-packages (from catboost) (0.10.1)\n",
            "Requirement already satisfied: plotly in /usr/local/lib/python3.8/dist-packages (from catboost) (5.5.0)\n",
            "Requirement already satisfied: pytz>=2017.3 in /usr/local/lib/python3.8/dist-packages (from pandas>=0.24.0->catboost) (2022.7)\n",
            "Requirement already satisfied: python-dateutil>=2.7.3 in /usr/local/lib/python3.8/dist-packages (from pandas>=0.24.0->catboost) (2.8.2)\n",
            "Requirement already satisfied: cycler>=0.10 in /usr/local/lib/python3.8/dist-packages (from matplotlib->catboost) (0.11.0)\n",
            "Requirement already satisfied: kiwisolver>=1.0.1 in /usr/local/lib/python3.8/dist-packages (from matplotlib->catboost) (1.4.4)\n",
            "Requirement already satisfied: pyparsing!=2.0.4,!=2.1.2,!=2.1.6,>=2.0.1 in /usr/local/lib/python3.8/dist-packages (from matplotlib->catboost) (3.0.9)\n",
            "Requirement already satisfied: tenacity>=6.2.0 in /usr/local/lib/python3.8/dist-packages (from plotly->catboost) (8.1.0)\n",
            "Installing collected packages: catboost\n",
            "Successfully installed catboost-1.1.1\n"
          ]
        }
      ]
    },
    {
      "cell_type": "code",
      "execution_count": 17,
      "id": "873dc358",
      "metadata": {
        "id": "873dc358"
      },
      "outputs": [],
      "source": [
        "import pandas as pd\n",
        "import numpy as np\n",
        "import matplotlib.pyplot as plt\n",
        "import seaborn as sns\n",
        "from sklearn.preprocessing import LabelEncoder, StandardScaler, OneHotEncoder, power_transform\n",
        "from sklearn.model_selection import train_test_split, RandomizedSearchCV, GridSearchCV, KFold\n",
        "from sklearn.metrics import mean_squared_error\n",
        "from sklearn.ensemble import RandomForestRegressor,ExtraTreesRegressor,BaggingRegressor,VotingRegressor,StackingRegressor, HistGradientBoostingRegressor\n",
        "import warnings\n",
        "from sklearn.linear_model import LinearRegression, Ridge, Lasso\n",
        "import xgboost\n",
        "from catboost import CatBoostRegressor\n",
        "from lightgbm import LGBMRegressor\n",
        "warnings.filterwarnings('ignore')\n",
        "np.random.seed(20)"
      ]
    },
    {
      "cell_type": "markdown",
      "id": "e357a532",
      "metadata": {
        "id": "e357a532"
      },
      "source": [
        "# loading the data"
      ]
    },
    {
      "cell_type": "code",
      "execution_count": null,
      "id": "1829cc16",
      "metadata": {
        "id": "1829cc16"
      },
      "outputs": [],
      "source": [
        "training = pd.read_csv('Train.csv')\n",
        "testing = pd.read_csv('Test.csv')\n",
        "submission = pd.read_csv('SampleSubmission.csv')"
      ]
    },
    {
      "cell_type": "code",
      "source": [
        "training.head(3)"
      ],
      "metadata": {
        "colab": {
          "base_uri": "https://localhost:8080/",
          "height": 143
        },
        "id": "KSRYFnuIrBEO",
        "outputId": "a3c4f5df-f9ec-4768-a572-c2f99ce2a735"
      },
      "id": "KSRYFnuIrBEO",
      "execution_count": null,
      "outputs": [
        {
          "output_type": "execute_result",
          "data": {
            "text/plain": [
              "  VehicleID Location    Maker                Model   Year  Colour  \\\n",
              "0  VHL12546    Abuja    Honda  Accord Coupe EX V-6  2,011  Silver   \n",
              "1  VHL18827   Ibadan  Hyundai               Sonata  2,012  Silver   \n",
              "2  VHL19499    Lagos    Lexus               RX 350  2,010     Red   \n",
              "\n",
              "   Amount (Million Naira)           Type Distance  \n",
              "0                     2.2  Nigerian Used      NaN  \n",
              "1                     3.5  Nigerian Used  125,000  \n",
              "2                     9.2   Foreign Used  110,852  "
            ],
            "text/html": [
              "\n",
              "  <div id=\"df-1d20b1b6-0a70-4861-8472-aea3eb0e37e6\">\n",
              "    <div class=\"colab-df-container\">\n",
              "      <div>\n",
              "<style scoped>\n",
              "    .dataframe tbody tr th:only-of-type {\n",
              "        vertical-align: middle;\n",
              "    }\n",
              "\n",
              "    .dataframe tbody tr th {\n",
              "        vertical-align: top;\n",
              "    }\n",
              "\n",
              "    .dataframe thead th {\n",
              "        text-align: right;\n",
              "    }\n",
              "</style>\n",
              "<table border=\"1\" class=\"dataframe\">\n",
              "  <thead>\n",
              "    <tr style=\"text-align: right;\">\n",
              "      <th></th>\n",
              "      <th>VehicleID</th>\n",
              "      <th>Location</th>\n",
              "      <th>Maker</th>\n",
              "      <th>Model</th>\n",
              "      <th>Year</th>\n",
              "      <th>Colour</th>\n",
              "      <th>Amount (Million Naira)</th>\n",
              "      <th>Type</th>\n",
              "      <th>Distance</th>\n",
              "    </tr>\n",
              "  </thead>\n",
              "  <tbody>\n",
              "    <tr>\n",
              "      <th>0</th>\n",
              "      <td>VHL12546</td>\n",
              "      <td>Abuja</td>\n",
              "      <td>Honda</td>\n",
              "      <td>Accord Coupe EX V-6</td>\n",
              "      <td>2,011</td>\n",
              "      <td>Silver</td>\n",
              "      <td>2.2</td>\n",
              "      <td>Nigerian Used</td>\n",
              "      <td>NaN</td>\n",
              "    </tr>\n",
              "    <tr>\n",
              "      <th>1</th>\n",
              "      <td>VHL18827</td>\n",
              "      <td>Ibadan</td>\n",
              "      <td>Hyundai</td>\n",
              "      <td>Sonata</td>\n",
              "      <td>2,012</td>\n",
              "      <td>Silver</td>\n",
              "      <td>3.5</td>\n",
              "      <td>Nigerian Used</td>\n",
              "      <td>125,000</td>\n",
              "    </tr>\n",
              "    <tr>\n",
              "      <th>2</th>\n",
              "      <td>VHL19499</td>\n",
              "      <td>Lagos</td>\n",
              "      <td>Lexus</td>\n",
              "      <td>RX 350</td>\n",
              "      <td>2,010</td>\n",
              "      <td>Red</td>\n",
              "      <td>9.2</td>\n",
              "      <td>Foreign Used</td>\n",
              "      <td>110,852</td>\n",
              "    </tr>\n",
              "  </tbody>\n",
              "</table>\n",
              "</div>\n",
              "      <button class=\"colab-df-convert\" onclick=\"convertToInteractive('df-1d20b1b6-0a70-4861-8472-aea3eb0e37e6')\"\n",
              "              title=\"Convert this dataframe to an interactive table.\"\n",
              "              style=\"display:none;\">\n",
              "        \n",
              "  <svg xmlns=\"http://www.w3.org/2000/svg\" height=\"24px\"viewBox=\"0 0 24 24\"\n",
              "       width=\"24px\">\n",
              "    <path d=\"M0 0h24v24H0V0z\" fill=\"none\"/>\n",
              "    <path d=\"M18.56 5.44l.94 2.06.94-2.06 2.06-.94-2.06-.94-.94-2.06-.94 2.06-2.06.94zm-11 1L8.5 8.5l.94-2.06 2.06-.94-2.06-.94L8.5 2.5l-.94 2.06-2.06.94zm10 10l.94 2.06.94-2.06 2.06-.94-2.06-.94-.94-2.06-.94 2.06-2.06.94z\"/><path d=\"M17.41 7.96l-1.37-1.37c-.4-.4-.92-.59-1.43-.59-.52 0-1.04.2-1.43.59L10.3 9.45l-7.72 7.72c-.78.78-.78 2.05 0 2.83L4 21.41c.39.39.9.59 1.41.59.51 0 1.02-.2 1.41-.59l7.78-7.78 2.81-2.81c.8-.78.8-2.07 0-2.86zM5.41 20L4 18.59l7.72-7.72 1.47 1.35L5.41 20z\"/>\n",
              "  </svg>\n",
              "      </button>\n",
              "      \n",
              "  <style>\n",
              "    .colab-df-container {\n",
              "      display:flex;\n",
              "      flex-wrap:wrap;\n",
              "      gap: 12px;\n",
              "    }\n",
              "\n",
              "    .colab-df-convert {\n",
              "      background-color: #E8F0FE;\n",
              "      border: none;\n",
              "      border-radius: 50%;\n",
              "      cursor: pointer;\n",
              "      display: none;\n",
              "      fill: #1967D2;\n",
              "      height: 32px;\n",
              "      padding: 0 0 0 0;\n",
              "      width: 32px;\n",
              "    }\n",
              "\n",
              "    .colab-df-convert:hover {\n",
              "      background-color: #E2EBFA;\n",
              "      box-shadow: 0px 1px 2px rgba(60, 64, 67, 0.3), 0px 1px 3px 1px rgba(60, 64, 67, 0.15);\n",
              "      fill: #174EA6;\n",
              "    }\n",
              "\n",
              "    [theme=dark] .colab-df-convert {\n",
              "      background-color: #3B4455;\n",
              "      fill: #D2E3FC;\n",
              "    }\n",
              "\n",
              "    [theme=dark] .colab-df-convert:hover {\n",
              "      background-color: #434B5C;\n",
              "      box-shadow: 0px 1px 3px 1px rgba(0, 0, 0, 0.15);\n",
              "      filter: drop-shadow(0px 1px 2px rgba(0, 0, 0, 0.3));\n",
              "      fill: #FFFFFF;\n",
              "    }\n",
              "  </style>\n",
              "\n",
              "      <script>\n",
              "        const buttonEl =\n",
              "          document.querySelector('#df-1d20b1b6-0a70-4861-8472-aea3eb0e37e6 button.colab-df-convert');\n",
              "        buttonEl.style.display =\n",
              "          google.colab.kernel.accessAllowed ? 'block' : 'none';\n",
              "\n",
              "        async function convertToInteractive(key) {\n",
              "          const element = document.querySelector('#df-1d20b1b6-0a70-4861-8472-aea3eb0e37e6');\n",
              "          const dataTable =\n",
              "            await google.colab.kernel.invokeFunction('convertToInteractive',\n",
              "                                                     [key], {});\n",
              "          if (!dataTable) return;\n",
              "\n",
              "          const docLinkHtml = 'Like what you see? Visit the ' +\n",
              "            '<a target=\"_blank\" href=https://colab.research.google.com/notebooks/data_table.ipynb>data table notebook</a>'\n",
              "            + ' to learn more about interactive tables.';\n",
              "          element.innerHTML = '';\n",
              "          dataTable['output_type'] = 'display_data';\n",
              "          await google.colab.output.renderOutput(dataTable, element);\n",
              "          const docLink = document.createElement('div');\n",
              "          docLink.innerHTML = docLinkHtml;\n",
              "          element.appendChild(docLink);\n",
              "        }\n",
              "      </script>\n",
              "    </div>\n",
              "  </div>\n",
              "  "
            ]
          },
          "metadata": {},
          "execution_count": 6
        }
      ]
    },
    {
      "cell_type": "code",
      "source": [
        "training.info()"
      ],
      "metadata": {
        "colab": {
          "base_uri": "https://localhost:8080/"
        },
        "id": "08OtUFmerKHe",
        "outputId": "28763c54-72a5-4627-cdf3-4e2afd7c339b"
      },
      "id": "08OtUFmerKHe",
      "execution_count": null,
      "outputs": [
        {
          "output_type": "stream",
          "name": "stdout",
          "text": [
            "<class 'pandas.core.frame.DataFrame'>\n",
            "RangeIndex: 7205 entries, 0 to 7204\n",
            "Data columns (total 9 columns):\n",
            " #   Column                  Non-Null Count  Dtype  \n",
            "---  ------                  --------------  -----  \n",
            " 0   VehicleID               7205 non-null   object \n",
            " 1   Location                7205 non-null   object \n",
            " 2   Maker                   7205 non-null   object \n",
            " 3   Model                   7205 non-null   object \n",
            " 4   Year                    7184 non-null   object \n",
            " 5   Colour                  7205 non-null   object \n",
            " 6   Amount (Million Naira)  7188 non-null   float64\n",
            " 7   Type                    7008 non-null   object \n",
            " 8   Distance                4845 non-null   object \n",
            "dtypes: float64(1), object(8)\n",
            "memory usage: 506.7+ KB\n"
          ]
        }
      ]
    },
    {
      "cell_type": "code",
      "execution_count": null,
      "id": "5cb97d4d",
      "metadata": {
        "scrolled": true,
        "colab": {
          "base_uri": "https://localhost:8080/"
        },
        "id": "5cb97d4d",
        "outputId": "924ce762-3fe2-4d9d-d19c-e1c1b32bfbbc"
      },
      "outputs": [
        {
          "output_type": "execute_result",
          "data": {
            "text/plain": [
              "VehicleID                    0\n",
              "Location                     0\n",
              "Maker                        0\n",
              "Model                        0\n",
              "Year                        21\n",
              "Colour                       0\n",
              "Amount (Million Naira)      17\n",
              "Type                       197\n",
              "Distance                  2360\n",
              "dtype: int64"
            ]
          },
          "metadata": {},
          "execution_count": 7
        }
      ],
      "source": [
        "training.isnull().sum()"
      ]
    },
    {
      "cell_type": "markdown",
      "id": "e5b2e054",
      "metadata": {
        "id": "e5b2e054"
      },
      "source": [
        "# cleaning the data"
      ]
    },
    {
      "cell_type": "code",
      "execution_count": null,
      "id": "1864325c",
      "metadata": {
        "id": "1864325c"
      },
      "outputs": [],
      "source": [
        "def removeComa(d):\n",
        "    d = d.replace(',', '')\n",
        "    d = d.replace('.', '')\n",
        "    return d\n",
        "\n",
        "def clean(data):\n",
        "    data.Year = data.Year.apply(str).apply(removeComa)\n",
        "    data.Distance = data.Distance.apply(str).apply(removeComa)\n",
        "    data['Year'][data['Year'] == 'nan'] = data['Year'][data['Year'] != 'nan'].astype('int64').mean()\n",
        "    data.Year = data.Year.astype('int64')\n",
        "    data.Type.fillna(data.Type.mode()[0], inplace = True)\n",
        "    data = data.drop('VehicleID', axis = 1)\n",
        "    data[data.Type == 'Brand New'].Distance.fillna(0, inplace = True)\n",
        "    return data\n",
        "training = clean(training)\n",
        "testing = clean(testing)\n"
      ]
    },
    {
      "cell_type": "code",
      "execution_count": null,
      "id": "bc9cc3b0",
      "metadata": {
        "id": "bc9cc3b0"
      },
      "outputs": [],
      "source": [
        "training['Amount (Million Naira)'].fillna(training['Amount (Million Naira)'].median(), inplace = True)"
      ]
    },
    {
      "cell_type": "code",
      "execution_count": null,
      "id": "ef06fdde",
      "metadata": {
        "id": "ef06fdde"
      },
      "outputs": [],
      "source": [
        "encoder = OneHotEncoder(handle_unknown = 'ignore')\n",
        "edf = pd.DataFrame(encoder.fit_transform(training[['Location', 'Type']]).toarray())\n",
        "edf.columns = ['Abuja', 'Ibadan', 'Lagos', 'Nigerian Used', 'Foreign Used', 'Brand New']\n",
        "training = training.join(edf)\n",
        "training = training.drop(['Location', 'Type'], axis = 1)\n",
        "\n",
        "edf = pd.DataFrame(encoder.transform(testing[['Location', 'Type']]).toarray())\n",
        "edf.columns = ['Abuja', 'Ibadan', 'Lagos', 'Nigerian Used', 'Foreign Used', 'Brand New']\n",
        "testing = testing.join(edf)\n",
        "testing = testing.drop(['Location', 'Type'], axis = 1)"
      ]
    },
    {
      "cell_type": "code",
      "execution_count": null,
      "id": "76663263",
      "metadata": {
        "id": "76663263",
        "outputId": "c20fd440-18d8-47c3-f5c3-20cd0233cf85"
      },
      "outputs": [
        {
          "data": {
            "text/html": [
              "<div>\n",
              "<style scoped>\n",
              "    .dataframe tbody tr th:only-of-type {\n",
              "        vertical-align: middle;\n",
              "    }\n",
              "\n",
              "    .dataframe tbody tr th {\n",
              "        vertical-align: top;\n",
              "    }\n",
              "\n",
              "    .dataframe thead th {\n",
              "        text-align: right;\n",
              "    }\n",
              "</style>\n",
              "<table border=\"1\" class=\"dataframe\">\n",
              "  <thead>\n",
              "    <tr style=\"text-align: right;\">\n",
              "      <th></th>\n",
              "      <th>Maker</th>\n",
              "      <th>Model</th>\n",
              "      <th>Year</th>\n",
              "      <th>Colour</th>\n",
              "      <th>Amount (Million Naira)</th>\n",
              "      <th>Distance</th>\n",
              "      <th>Abuja</th>\n",
              "      <th>Ibadan</th>\n",
              "      <th>Lagos</th>\n",
              "      <th>Nigerian Used</th>\n",
              "      <th>Foreign Used</th>\n",
              "      <th>Brand New</th>\n",
              "    </tr>\n",
              "  </thead>\n",
              "  <tbody>\n",
              "    <tr>\n",
              "      <th>0</th>\n",
              "      <td>Honda</td>\n",
              "      <td>Accord Coupe EX V-6</td>\n",
              "      <td>2011</td>\n",
              "      <td>Silver</td>\n",
              "      <td>2.20</td>\n",
              "      <td>nan</td>\n",
              "      <td>1.0</td>\n",
              "      <td>0.0</td>\n",
              "      <td>0.0</td>\n",
              "      <td>0.0</td>\n",
              "      <td>0.0</td>\n",
              "      <td>1.0</td>\n",
              "    </tr>\n",
              "    <tr>\n",
              "      <th>1</th>\n",
              "      <td>Hyundai</td>\n",
              "      <td>Sonata</td>\n",
              "      <td>2012</td>\n",
              "      <td>Silver</td>\n",
              "      <td>3.50</td>\n",
              "      <td>125000</td>\n",
              "      <td>0.0</td>\n",
              "      <td>1.0</td>\n",
              "      <td>0.0</td>\n",
              "      <td>0.0</td>\n",
              "      <td>0.0</td>\n",
              "      <td>1.0</td>\n",
              "    </tr>\n",
              "    <tr>\n",
              "      <th>2</th>\n",
              "      <td>Lexus</td>\n",
              "      <td>RX 350</td>\n",
              "      <td>2010</td>\n",
              "      <td>Red</td>\n",
              "      <td>9.20</td>\n",
              "      <td>110852</td>\n",
              "      <td>0.0</td>\n",
              "      <td>0.0</td>\n",
              "      <td>1.0</td>\n",
              "      <td>0.0</td>\n",
              "      <td>1.0</td>\n",
              "      <td>0.0</td>\n",
              "    </tr>\n",
              "    <tr>\n",
              "      <th>3</th>\n",
              "      <td>Mercedes-Benz</td>\n",
              "      <td>GLE-Class</td>\n",
              "      <td>2017</td>\n",
              "      <td>Blue</td>\n",
              "      <td>22.80</td>\n",
              "      <td>30000</td>\n",
              "      <td>1.0</td>\n",
              "      <td>0.0</td>\n",
              "      <td>0.0</td>\n",
              "      <td>0.0</td>\n",
              "      <td>1.0</td>\n",
              "      <td>0.0</td>\n",
              "    </tr>\n",
              "    <tr>\n",
              "      <th>4</th>\n",
              "      <td>Toyota</td>\n",
              "      <td>Highlander</td>\n",
              "      <td>2002</td>\n",
              "      <td>Red</td>\n",
              "      <td>2.60</td>\n",
              "      <td>125206</td>\n",
              "      <td>0.0</td>\n",
              "      <td>1.0</td>\n",
              "      <td>0.0</td>\n",
              "      <td>0.0</td>\n",
              "      <td>0.0</td>\n",
              "      <td>1.0</td>\n",
              "    </tr>\n",
              "    <tr>\n",
              "      <th>...</th>\n",
              "      <td>...</td>\n",
              "      <td>...</td>\n",
              "      <td>...</td>\n",
              "      <td>...</td>\n",
              "      <td>...</td>\n",
              "      <td>...</td>\n",
              "      <td>...</td>\n",
              "      <td>...</td>\n",
              "      <td>...</td>\n",
              "      <td>...</td>\n",
              "      <td>...</td>\n",
              "      <td>...</td>\n",
              "    </tr>\n",
              "    <tr>\n",
              "      <th>7200</th>\n",
              "      <td>Honda</td>\n",
              "      <td>Civic</td>\n",
              "      <td>2018</td>\n",
              "      <td>Gray</td>\n",
              "      <td>5.70</td>\n",
              "      <td>65000</td>\n",
              "      <td>1.0</td>\n",
              "      <td>0.0</td>\n",
              "      <td>0.0</td>\n",
              "      <td>0.0</td>\n",
              "      <td>1.0</td>\n",
              "      <td>0.0</td>\n",
              "    </tr>\n",
              "    <tr>\n",
              "      <th>7201</th>\n",
              "      <td>BMW</td>\n",
              "      <td>X3</td>\n",
              "      <td>2007</td>\n",
              "      <td>White</td>\n",
              "      <td>4.00</td>\n",
              "      <td>200000</td>\n",
              "      <td>1.0</td>\n",
              "      <td>0.0</td>\n",
              "      <td>0.0</td>\n",
              "      <td>0.0</td>\n",
              "      <td>0.0</td>\n",
              "      <td>1.0</td>\n",
              "    </tr>\n",
              "    <tr>\n",
              "      <th>7202</th>\n",
              "      <td>Toyota</td>\n",
              "      <td>RAV4 2.5 Limited 4x4</td>\n",
              "      <td>2010</td>\n",
              "      <td>Black</td>\n",
              "      <td>2.85</td>\n",
              "      <td>nan</td>\n",
              "      <td>1.0</td>\n",
              "      <td>0.0</td>\n",
              "      <td>0.0</td>\n",
              "      <td>0.0</td>\n",
              "      <td>0.0</td>\n",
              "      <td>1.0</td>\n",
              "    </tr>\n",
              "    <tr>\n",
              "      <th>7203</th>\n",
              "      <td>Mercedes-Benz</td>\n",
              "      <td>GLK-Class 350</td>\n",
              "      <td>2012</td>\n",
              "      <td>Black</td>\n",
              "      <td>8.65</td>\n",
              "      <td>85750</td>\n",
              "      <td>0.0</td>\n",
              "      <td>0.0</td>\n",
              "      <td>1.0</td>\n",
              "      <td>0.0</td>\n",
              "      <td>1.0</td>\n",
              "      <td>0.0</td>\n",
              "    </tr>\n",
              "    <tr>\n",
              "      <th>7204</th>\n",
              "      <td>Honda</td>\n",
              "      <td>Accord Crosstour</td>\n",
              "      <td>2012</td>\n",
              "      <td>Gray</td>\n",
              "      <td>3.38</td>\n",
              "      <td>83308</td>\n",
              "      <td>1.0</td>\n",
              "      <td>0.0</td>\n",
              "      <td>0.0</td>\n",
              "      <td>0.0</td>\n",
              "      <td>0.0</td>\n",
              "      <td>1.0</td>\n",
              "    </tr>\n",
              "  </tbody>\n",
              "</table>\n",
              "<p>7205 rows × 12 columns</p>\n",
              "</div>"
            ],
            "text/plain": [
              "              Maker                 Model  Year  Colour  \\\n",
              "0             Honda   Accord Coupe EX V-6  2011  Silver   \n",
              "1           Hyundai                Sonata  2012  Silver   \n",
              "2             Lexus                RX 350  2010     Red   \n",
              "3     Mercedes-Benz             GLE-Class  2017    Blue   \n",
              "4            Toyota            Highlander  2002     Red   \n",
              "...             ...                   ...   ...     ...   \n",
              "7200          Honda                 Civic  2018    Gray   \n",
              "7201            BMW                    X3  2007   White   \n",
              "7202         Toyota  RAV4 2.5 Limited 4x4  2010   Black   \n",
              "7203  Mercedes-Benz         GLK-Class 350  2012   Black   \n",
              "7204          Honda      Accord Crosstour  2012    Gray   \n",
              "\n",
              "      Amount (Million Naira) Distance  Abuja  Ibadan  Lagos  Nigerian Used  \\\n",
              "0                       2.20      nan    1.0     0.0    0.0            0.0   \n",
              "1                       3.50   125000    0.0     1.0    0.0            0.0   \n",
              "2                       9.20   110852    0.0     0.0    1.0            0.0   \n",
              "3                      22.80    30000    1.0     0.0    0.0            0.0   \n",
              "4                       2.60   125206    0.0     1.0    0.0            0.0   \n",
              "...                      ...      ...    ...     ...    ...            ...   \n",
              "7200                    5.70    65000    1.0     0.0    0.0            0.0   \n",
              "7201                    4.00   200000    1.0     0.0    0.0            0.0   \n",
              "7202                    2.85      nan    1.0     0.0    0.0            0.0   \n",
              "7203                    8.65    85750    0.0     0.0    1.0            0.0   \n",
              "7204                    3.38    83308    1.0     0.0    0.0            0.0   \n",
              "\n",
              "      Foreign Used  Brand New  \n",
              "0              0.0        1.0  \n",
              "1              0.0        1.0  \n",
              "2              1.0        0.0  \n",
              "3              1.0        0.0  \n",
              "4              0.0        1.0  \n",
              "...            ...        ...  \n",
              "7200           1.0        0.0  \n",
              "7201           0.0        1.0  \n",
              "7202           0.0        1.0  \n",
              "7203           1.0        0.0  \n",
              "7204           0.0        1.0  \n",
              "\n",
              "[7205 rows x 12 columns]"
            ]
          },
          "execution_count": 8,
          "metadata": {},
          "output_type": "execute_result"
        }
      ],
      "source": [
        "training"
      ]
    },
    {
      "cell_type": "code",
      "execution_count": null,
      "id": "95dad4a9",
      "metadata": {
        "id": "95dad4a9"
      },
      "outputs": [],
      "source": [
        "\n",
        "le = LabelEncoder()\n",
        "training['Model'] = le.fit_transform(training['Model'])\n",
        "training['Colour'] = le.fit_transform(training['Colour'])\n",
        "training['Maker'] = le.fit_transform(training['Maker'])\n",
        "\n",
        "\n",
        "testing['Model'] = le.fit_transform(testing['Model'])\n",
        "testing['Colour'] = le.fit_transform(testing['Colour'])\n",
        "testing['Maker'] = le.fit_transform(testing['Maker'])\n",
        "\n",
        "training['Year'] = training['Year'].astype('int64')\n",
        "testing['Year'] = testing['Year'].astype('int64')\n",
        "\n"
      ]
    },
    {
      "cell_type": "code",
      "execution_count": null,
      "id": "cc4ea7db",
      "metadata": {
        "id": "cc4ea7db",
        "outputId": "ad6005ca-3e26-4ff5-a176-8380135b33ff"
      },
      "outputs": [
        {
          "data": {
            "text/html": [
              "<div>\n",
              "<style scoped>\n",
              "    .dataframe tbody tr th:only-of-type {\n",
              "        vertical-align: middle;\n",
              "    }\n",
              "\n",
              "    .dataframe tbody tr th {\n",
              "        vertical-align: top;\n",
              "    }\n",
              "\n",
              "    .dataframe thead th {\n",
              "        text-align: right;\n",
              "    }\n",
              "</style>\n",
              "<table border=\"1\" class=\"dataframe\">\n",
              "  <thead>\n",
              "    <tr style=\"text-align: right;\">\n",
              "      <th></th>\n",
              "      <th>Maker</th>\n",
              "      <th>Model</th>\n",
              "      <th>Year</th>\n",
              "      <th>Colour</th>\n",
              "      <th>Amount (Million Naira)</th>\n",
              "      <th>Distance</th>\n",
              "      <th>Abuja</th>\n",
              "      <th>Ibadan</th>\n",
              "      <th>Lagos</th>\n",
              "      <th>Nigerian Used</th>\n",
              "      <th>Foreign Used</th>\n",
              "      <th>Brand New</th>\n",
              "    </tr>\n",
              "  </thead>\n",
              "  <tbody>\n",
              "    <tr>\n",
              "      <th>0</th>\n",
              "      <td>17</td>\n",
              "      <td>117</td>\n",
              "      <td>2011</td>\n",
              "      <td>16</td>\n",
              "      <td>2.20</td>\n",
              "      <td>nan</td>\n",
              "      <td>1.0</td>\n",
              "      <td>0.0</td>\n",
              "      <td>0.0</td>\n",
              "      <td>0.0</td>\n",
              "      <td>0.0</td>\n",
              "      <td>1.0</td>\n",
              "    </tr>\n",
              "    <tr>\n",
              "      <th>1</th>\n",
              "      <td>19</td>\n",
              "      <td>1049</td>\n",
              "      <td>2012</td>\n",
              "      <td>16</td>\n",
              "      <td>3.50</td>\n",
              "      <td>125000</td>\n",
              "      <td>0.0</td>\n",
              "      <td>1.0</td>\n",
              "      <td>0.0</td>\n",
              "      <td>0.0</td>\n",
              "      <td>0.0</td>\n",
              "      <td>1.0</td>\n",
              "    </tr>\n",
              "    <tr>\n",
              "      <th>2</th>\n",
              "      <td>29</td>\n",
              "      <td>908</td>\n",
              "      <td>2010</td>\n",
              "      <td>15</td>\n",
              "      <td>9.20</td>\n",
              "      <td>110852</td>\n",
              "      <td>0.0</td>\n",
              "      <td>0.0</td>\n",
              "      <td>1.0</td>\n",
              "      <td>0.0</td>\n",
              "      <td>1.0</td>\n",
              "      <td>0.0</td>\n",
              "    </tr>\n",
              "    <tr>\n",
              "      <th>3</th>\n",
              "      <td>34</td>\n",
              "      <td>508</td>\n",
              "      <td>2017</td>\n",
              "      <td>2</td>\n",
              "      <td>22.80</td>\n",
              "      <td>30000</td>\n",
              "      <td>1.0</td>\n",
              "      <td>0.0</td>\n",
              "      <td>0.0</td>\n",
              "      <td>0.0</td>\n",
              "      <td>1.0</td>\n",
              "      <td>0.0</td>\n",
              "    </tr>\n",
              "    <tr>\n",
              "      <th>4</th>\n",
              "      <td>52</td>\n",
              "      <td>569</td>\n",
              "      <td>2002</td>\n",
              "      <td>15</td>\n",
              "      <td>2.60</td>\n",
              "      <td>125206</td>\n",
              "      <td>0.0</td>\n",
              "      <td>1.0</td>\n",
              "      <td>0.0</td>\n",
              "      <td>0.0</td>\n",
              "      <td>0.0</td>\n",
              "      <td>1.0</td>\n",
              "    </tr>\n",
              "    <tr>\n",
              "      <th>...</th>\n",
              "      <td>...</td>\n",
              "      <td>...</td>\n",
              "      <td>...</td>\n",
              "      <td>...</td>\n",
              "      <td>...</td>\n",
              "      <td>...</td>\n",
              "      <td>...</td>\n",
              "      <td>...</td>\n",
              "      <td>...</td>\n",
              "      <td>...</td>\n",
              "      <td>...</td>\n",
              "      <td>...</td>\n",
              "    </tr>\n",
              "    <tr>\n",
              "      <th>7200</th>\n",
              "      <td>17</td>\n",
              "      <td>320</td>\n",
              "      <td>2018</td>\n",
              "      <td>7</td>\n",
              "      <td>5.70</td>\n",
              "      <td>65000</td>\n",
              "      <td>1.0</td>\n",
              "      <td>0.0</td>\n",
              "      <td>0.0</td>\n",
              "      <td>0.0</td>\n",
              "      <td>1.0</td>\n",
              "      <td>0.0</td>\n",
              "    </tr>\n",
              "    <tr>\n",
              "      <th>7201</th>\n",
              "      <td>3</td>\n",
              "      <td>1172</td>\n",
              "      <td>2007</td>\n",
              "      <td>19</td>\n",
              "      <td>4.00</td>\n",
              "      <td>200000</td>\n",
              "      <td>1.0</td>\n",
              "      <td>0.0</td>\n",
              "      <td>0.0</td>\n",
              "      <td>0.0</td>\n",
              "      <td>0.0</td>\n",
              "      <td>1.0</td>\n",
              "    </tr>\n",
              "    <tr>\n",
              "      <th>7202</th>\n",
              "      <td>52</td>\n",
              "      <td>860</td>\n",
              "      <td>2010</td>\n",
              "      <td>1</td>\n",
              "      <td>2.85</td>\n",
              "      <td>nan</td>\n",
              "      <td>1.0</td>\n",
              "      <td>0.0</td>\n",
              "      <td>0.0</td>\n",
              "      <td>0.0</td>\n",
              "      <td>0.0</td>\n",
              "      <td>1.0</td>\n",
              "    </tr>\n",
              "    <tr>\n",
              "      <th>7203</th>\n",
              "      <td>34</td>\n",
              "      <td>512</td>\n",
              "      <td>2012</td>\n",
              "      <td>1</td>\n",
              "      <td>8.65</td>\n",
              "      <td>85750</td>\n",
              "      <td>0.0</td>\n",
              "      <td>0.0</td>\n",
              "      <td>1.0</td>\n",
              "      <td>0.0</td>\n",
              "      <td>1.0</td>\n",
              "      <td>0.0</td>\n",
              "    </tr>\n",
              "    <tr>\n",
              "      <th>7204</th>\n",
              "      <td>17</td>\n",
              "      <td>123</td>\n",
              "      <td>2012</td>\n",
              "      <td>7</td>\n",
              "      <td>3.38</td>\n",
              "      <td>83308</td>\n",
              "      <td>1.0</td>\n",
              "      <td>0.0</td>\n",
              "      <td>0.0</td>\n",
              "      <td>0.0</td>\n",
              "      <td>0.0</td>\n",
              "      <td>1.0</td>\n",
              "    </tr>\n",
              "  </tbody>\n",
              "</table>\n",
              "<p>7205 rows × 12 columns</p>\n",
              "</div>"
            ],
            "text/plain": [
              "      Maker  Model  Year  Colour  Amount (Million Naira) Distance  Abuja  \\\n",
              "0        17    117  2011      16                    2.20      nan    1.0   \n",
              "1        19   1049  2012      16                    3.50   125000    0.0   \n",
              "2        29    908  2010      15                    9.20   110852    0.0   \n",
              "3        34    508  2017       2                   22.80    30000    1.0   \n",
              "4        52    569  2002      15                    2.60   125206    0.0   \n",
              "...     ...    ...   ...     ...                     ...      ...    ...   \n",
              "7200     17    320  2018       7                    5.70    65000    1.0   \n",
              "7201      3   1172  2007      19                    4.00   200000    1.0   \n",
              "7202     52    860  2010       1                    2.85      nan    1.0   \n",
              "7203     34    512  2012       1                    8.65    85750    0.0   \n",
              "7204     17    123  2012       7                    3.38    83308    1.0   \n",
              "\n",
              "      Ibadan  Lagos  Nigerian Used  Foreign Used  Brand New  \n",
              "0        0.0    0.0            0.0           0.0        1.0  \n",
              "1        1.0    0.0            0.0           0.0        1.0  \n",
              "2        0.0    1.0            0.0           1.0        0.0  \n",
              "3        0.0    0.0            0.0           1.0        0.0  \n",
              "4        1.0    0.0            0.0           0.0        1.0  \n",
              "...      ...    ...            ...           ...        ...  \n",
              "7200     0.0    0.0            0.0           1.0        0.0  \n",
              "7201     0.0    0.0            0.0           0.0        1.0  \n",
              "7202     0.0    0.0            0.0           0.0        1.0  \n",
              "7203     0.0    1.0            0.0           1.0        0.0  \n",
              "7204     0.0    0.0            0.0           0.0        1.0  \n",
              "\n",
              "[7205 rows x 12 columns]"
            ]
          },
          "execution_count": 10,
          "metadata": {},
          "output_type": "execute_result"
        }
      ],
      "source": [
        "training"
      ]
    },
    {
      "cell_type": "code",
      "execution_count": 18,
      "id": "37a8736d",
      "metadata": {
        "id": "37a8736d"
      },
      "outputs": [],
      "source": [
        "\n",
        "ss = StandardScaler()\n",
        "training.Model = ss.fit_transform(training[['Model']])\n",
        "training.Maker = ss.fit_transform(training[['Maker']])\n",
        "training['Year'] = training['Year'] / training['Year'].max()\n",
        "# training.Distance = power_transform(training[[\"Distance\"]])\n",
        "\n",
        "testing.Model = ss.fit_transform(testing[['Model']])\n",
        "testing.Maker = ss.fit_transform(testing[['Maker']])\n",
        "testing['Year'] = testing['Year'] / testing['Year'].max()\n",
        "# testing.Distance = power_transform(testing[[\"Distance\"]])\n"
      ]
    },
    {
      "cell_type": "code",
      "execution_count": 19,
      "id": "372eb38e",
      "metadata": {
        "id": "372eb38e",
        "outputId": "d1ecc3da-b6e8-4d20-c57d-d25e9a06c206",
        "colab": {
          "base_uri": "https://localhost:8080/",
          "height": 655
        }
      },
      "outputs": [
        {
          "output_type": "execute_result",
          "data": {
            "text/plain": [
              "         Model      Year Distance  Abuja  Ibadan  Nigerian Used  Brand New\n",
              "0    -1.692645  0.993076   305240    1.0     0.0            0.0        0.0\n",
              "1    -0.944022  0.995549      nan    0.0     0.0            0.0        0.0\n",
              "2     0.025932  0.991592      nan    0.0     0.0            0.0        0.0\n",
              "3    -0.944022  0.994560  1668390    0.0     0.0            0.0        0.0\n",
              "4    -0.494849  0.995549   888620    0.0     0.0            0.0        0.0\n",
              "...        ...       ...      ...    ...     ...            ...        ...\n",
              "2056 -1.263001  0.999011    26500    1.0     0.0            0.0        0.0\n",
              "2057  0.800593  0.994560   990000    0.0     1.0            0.0        0.0\n",
              "2058 -0.944022  0.996538  1080000    0.0     1.0            0.0        0.0\n",
              "2059  0.221224  0.995549   524850    1.0     0.0            0.0        0.0\n",
              "2060  1.718469  0.993571  1240880    1.0     0.0            0.0        0.0\n",
              "\n",
              "[2061 rows x 7 columns]"
            ],
            "text/html": [
              "\n",
              "  <div id=\"df-689226fc-6a22-4cae-9d39-f69a4157bae3\">\n",
              "    <div class=\"colab-df-container\">\n",
              "      <div>\n",
              "<style scoped>\n",
              "    .dataframe tbody tr th:only-of-type {\n",
              "        vertical-align: middle;\n",
              "    }\n",
              "\n",
              "    .dataframe tbody tr th {\n",
              "        vertical-align: top;\n",
              "    }\n",
              "\n",
              "    .dataframe thead th {\n",
              "        text-align: right;\n",
              "    }\n",
              "</style>\n",
              "<table border=\"1\" class=\"dataframe\">\n",
              "  <thead>\n",
              "    <tr style=\"text-align: right;\">\n",
              "      <th></th>\n",
              "      <th>Model</th>\n",
              "      <th>Year</th>\n",
              "      <th>Distance</th>\n",
              "      <th>Abuja</th>\n",
              "      <th>Ibadan</th>\n",
              "      <th>Nigerian Used</th>\n",
              "      <th>Brand New</th>\n",
              "    </tr>\n",
              "  </thead>\n",
              "  <tbody>\n",
              "    <tr>\n",
              "      <th>0</th>\n",
              "      <td>-1.692645</td>\n",
              "      <td>0.993076</td>\n",
              "      <td>305240</td>\n",
              "      <td>1.0</td>\n",
              "      <td>0.0</td>\n",
              "      <td>0.0</td>\n",
              "      <td>0.0</td>\n",
              "    </tr>\n",
              "    <tr>\n",
              "      <th>1</th>\n",
              "      <td>-0.944022</td>\n",
              "      <td>0.995549</td>\n",
              "      <td>nan</td>\n",
              "      <td>0.0</td>\n",
              "      <td>0.0</td>\n",
              "      <td>0.0</td>\n",
              "      <td>0.0</td>\n",
              "    </tr>\n",
              "    <tr>\n",
              "      <th>2</th>\n",
              "      <td>0.025932</td>\n",
              "      <td>0.991592</td>\n",
              "      <td>nan</td>\n",
              "      <td>0.0</td>\n",
              "      <td>0.0</td>\n",
              "      <td>0.0</td>\n",
              "      <td>0.0</td>\n",
              "    </tr>\n",
              "    <tr>\n",
              "      <th>3</th>\n",
              "      <td>-0.944022</td>\n",
              "      <td>0.994560</td>\n",
              "      <td>1668390</td>\n",
              "      <td>0.0</td>\n",
              "      <td>0.0</td>\n",
              "      <td>0.0</td>\n",
              "      <td>0.0</td>\n",
              "    </tr>\n",
              "    <tr>\n",
              "      <th>4</th>\n",
              "      <td>-0.494849</td>\n",
              "      <td>0.995549</td>\n",
              "      <td>888620</td>\n",
              "      <td>0.0</td>\n",
              "      <td>0.0</td>\n",
              "      <td>0.0</td>\n",
              "      <td>0.0</td>\n",
              "    </tr>\n",
              "    <tr>\n",
              "      <th>...</th>\n",
              "      <td>...</td>\n",
              "      <td>...</td>\n",
              "      <td>...</td>\n",
              "      <td>...</td>\n",
              "      <td>...</td>\n",
              "      <td>...</td>\n",
              "      <td>...</td>\n",
              "    </tr>\n",
              "    <tr>\n",
              "      <th>2056</th>\n",
              "      <td>-1.263001</td>\n",
              "      <td>0.999011</td>\n",
              "      <td>26500</td>\n",
              "      <td>1.0</td>\n",
              "      <td>0.0</td>\n",
              "      <td>0.0</td>\n",
              "      <td>0.0</td>\n",
              "    </tr>\n",
              "    <tr>\n",
              "      <th>2057</th>\n",
              "      <td>0.800593</td>\n",
              "      <td>0.994560</td>\n",
              "      <td>990000</td>\n",
              "      <td>0.0</td>\n",
              "      <td>1.0</td>\n",
              "      <td>0.0</td>\n",
              "      <td>0.0</td>\n",
              "    </tr>\n",
              "    <tr>\n",
              "      <th>2058</th>\n",
              "      <td>-0.944022</td>\n",
              "      <td>0.996538</td>\n",
              "      <td>1080000</td>\n",
              "      <td>0.0</td>\n",
              "      <td>1.0</td>\n",
              "      <td>0.0</td>\n",
              "      <td>0.0</td>\n",
              "    </tr>\n",
              "    <tr>\n",
              "      <th>2059</th>\n",
              "      <td>0.221224</td>\n",
              "      <td>0.995549</td>\n",
              "      <td>524850</td>\n",
              "      <td>1.0</td>\n",
              "      <td>0.0</td>\n",
              "      <td>0.0</td>\n",
              "      <td>0.0</td>\n",
              "    </tr>\n",
              "    <tr>\n",
              "      <th>2060</th>\n",
              "      <td>1.718469</td>\n",
              "      <td>0.993571</td>\n",
              "      <td>1240880</td>\n",
              "      <td>1.0</td>\n",
              "      <td>0.0</td>\n",
              "      <td>0.0</td>\n",
              "      <td>0.0</td>\n",
              "    </tr>\n",
              "  </tbody>\n",
              "</table>\n",
              "<p>2061 rows × 7 columns</p>\n",
              "</div>\n",
              "      <button class=\"colab-df-convert\" onclick=\"convertToInteractive('df-689226fc-6a22-4cae-9d39-f69a4157bae3')\"\n",
              "              title=\"Convert this dataframe to an interactive table.\"\n",
              "              style=\"display:none;\">\n",
              "        \n",
              "  <svg xmlns=\"http://www.w3.org/2000/svg\" height=\"24px\"viewBox=\"0 0 24 24\"\n",
              "       width=\"24px\">\n",
              "    <path d=\"M0 0h24v24H0V0z\" fill=\"none\"/>\n",
              "    <path d=\"M18.56 5.44l.94 2.06.94-2.06 2.06-.94-2.06-.94-.94-2.06-.94 2.06-2.06.94zm-11 1L8.5 8.5l.94-2.06 2.06-.94-2.06-.94L8.5 2.5l-.94 2.06-2.06.94zm10 10l.94 2.06.94-2.06 2.06-.94-2.06-.94-.94-2.06-.94 2.06-2.06.94z\"/><path d=\"M17.41 7.96l-1.37-1.37c-.4-.4-.92-.59-1.43-.59-.52 0-1.04.2-1.43.59L10.3 9.45l-7.72 7.72c-.78.78-.78 2.05 0 2.83L4 21.41c.39.39.9.59 1.41.59.51 0 1.02-.2 1.41-.59l7.78-7.78 2.81-2.81c.8-.78.8-2.07 0-2.86zM5.41 20L4 18.59l7.72-7.72 1.47 1.35L5.41 20z\"/>\n",
              "  </svg>\n",
              "      </button>\n",
              "      \n",
              "  <style>\n",
              "    .colab-df-container {\n",
              "      display:flex;\n",
              "      flex-wrap:wrap;\n",
              "      gap: 12px;\n",
              "    }\n",
              "\n",
              "    .colab-df-convert {\n",
              "      background-color: #E8F0FE;\n",
              "      border: none;\n",
              "      border-radius: 50%;\n",
              "      cursor: pointer;\n",
              "      display: none;\n",
              "      fill: #1967D2;\n",
              "      height: 32px;\n",
              "      padding: 0 0 0 0;\n",
              "      width: 32px;\n",
              "    }\n",
              "\n",
              "    .colab-df-convert:hover {\n",
              "      background-color: #E2EBFA;\n",
              "      box-shadow: 0px 1px 2px rgba(60, 64, 67, 0.3), 0px 1px 3px 1px rgba(60, 64, 67, 0.15);\n",
              "      fill: #174EA6;\n",
              "    }\n",
              "\n",
              "    [theme=dark] .colab-df-convert {\n",
              "      background-color: #3B4455;\n",
              "      fill: #D2E3FC;\n",
              "    }\n",
              "\n",
              "    [theme=dark] .colab-df-convert:hover {\n",
              "      background-color: #434B5C;\n",
              "      box-shadow: 0px 1px 3px 1px rgba(0, 0, 0, 0.15);\n",
              "      filter: drop-shadow(0px 1px 2px rgba(0, 0, 0, 0.3));\n",
              "      fill: #FFFFFF;\n",
              "    }\n",
              "  </style>\n",
              "\n",
              "      <script>\n",
              "        const buttonEl =\n",
              "          document.querySelector('#df-689226fc-6a22-4cae-9d39-f69a4157bae3 button.colab-df-convert');\n",
              "        buttonEl.style.display =\n",
              "          google.colab.kernel.accessAllowed ? 'block' : 'none';\n",
              "\n",
              "        async function convertToInteractive(key) {\n",
              "          const element = document.querySelector('#df-689226fc-6a22-4cae-9d39-f69a4157bae3');\n",
              "          const dataTable =\n",
              "            await google.colab.kernel.invokeFunction('convertToInteractive',\n",
              "                                                     [key], {});\n",
              "          if (!dataTable) return;\n",
              "\n",
              "          const docLinkHtml = 'Like what you see? Visit the ' +\n",
              "            '<a target=\"_blank\" href=https://colab.research.google.com/notebooks/data_table.ipynb>data table notebook</a>'\n",
              "            + ' to learn more about interactive tables.';\n",
              "          element.innerHTML = '';\n",
              "          dataTable['output_type'] = 'display_data';\n",
              "          await google.colab.output.renderOutput(dataTable, element);\n",
              "          const docLink = document.createElement('div');\n",
              "          docLink.innerHTML = docLinkHtml;\n",
              "          element.appendChild(docLink);\n",
              "        }\n",
              "      </script>\n",
              "    </div>\n",
              "  </div>\n",
              "  "
            ]
          },
          "metadata": {},
          "execution_count": 19
        }
      ],
      "source": [
        "training.drop(['Maker', 'Foreign Used', 'Colour', 'Lagos'], axis = 1)\n",
        "testing.drop(['Maker', 'Foreign Used', 'Colour', 'Lagos'], axis = 1)"
      ]
    },
    {
      "cell_type": "code",
      "execution_count": 20,
      "id": "7a142a5b",
      "metadata": {
        "id": "7a142a5b",
        "outputId": "c8e44514-0556-4dff-d91c-0d8e7b1cac62",
        "colab": {
          "base_uri": "https://localhost:8080/"
        }
      },
      "outputs": [
        {
          "output_type": "stream",
          "name": "stdout",
          "text": [
            "<class 'pandas.core.frame.DataFrame'>\n",
            "RangeIndex: 7205 entries, 0 to 7204\n",
            "Data columns (total 12 columns):\n",
            " #   Column                  Non-Null Count  Dtype  \n",
            "---  ------                  --------------  -----  \n",
            " 0   Maker                   7205 non-null   float64\n",
            " 1   Model                   7205 non-null   float64\n",
            " 2   Year                    7205 non-null   float64\n",
            " 3   Colour                  7205 non-null   int64  \n",
            " 4   Amount (Million Naira)  7205 non-null   float64\n",
            " 5   Distance                7205 non-null   object \n",
            " 6   Abuja                   7205 non-null   float64\n",
            " 7   Ibadan                  7205 non-null   float64\n",
            " 8   Lagos                   7205 non-null   float64\n",
            " 9   Nigerian Used           7205 non-null   float64\n",
            " 10  Foreign Used            7205 non-null   float64\n",
            " 11  Brand New               7205 non-null   float64\n",
            "dtypes: float64(10), int64(1), object(1)\n",
            "memory usage: 675.6+ KB\n"
          ]
        }
      ],
      "source": [
        "training.info()"
      ]
    },
    {
      "cell_type": "code",
      "execution_count": 34,
      "id": "6e768100",
      "metadata": {
        "id": "6e768100",
        "colab": {
          "base_uri": "https://localhost:8080/"
        },
        "outputId": "55aefed6-30e8-4d65-92f3-dd0cab121f45"
      },
      "outputs": [
        {
          "output_type": "stream",
          "name": "stdout",
          "text": [
            "[22:54:22] WARNING: /workspace/src/objective/regression_obj.cu:152: reg:linear is now deprecated in favor of reg:squarederror.\n"
          ]
        }
      ],
      "source": [
        "X_d = training[training.Distance != 'nan']\n",
        "y_d = X_d.pop('Distance')\n",
        "\n",
        "y_d = y_d.astype('int')\n",
        "xg = xgboost.XGBRegressor()\n",
        "train, test, yrain, yest = train_test_split(X_d, y_d)\n",
        "xg.fit(train, yrain)\n",
        "p = xg.predict(test)"
      ]
    },
    {
      "cell_type": "code",
      "execution_count": 36,
      "id": "3537d774",
      "metadata": {
        "scrolled": true,
        "id": "3537d774"
      },
      "outputs": [],
      "source": [
        "indices = training[training['Distance'] == 'nan'].index.tolist()\n",
        "for i, j in zip(indices, p):\n",
        "    training.loc[i, 'Distance'] = j\n",
        "    \n",
        "training.Distance = training.Distance.apply(float)\n",
        "testing.Distance = testing.Distance.apply(float)"
      ]
    },
    {
      "cell_type": "code",
      "execution_count": 37,
      "id": "a4f29f07",
      "metadata": {
        "id": "a4f29f07"
      },
      "outputs": [],
      "source": [
        "training.Distance = power_transform(training[['Distance']])"
      ]
    },
    {
      "cell_type": "code",
      "execution_count": 38,
      "id": "be8b555d",
      "metadata": {
        "id": "be8b555d"
      },
      "outputs": [],
      "source": [
        "X = training.drop(['Amount (Million Naira)'], axis = 1)\n",
        "y = training['Amount (Million Naira)']"
      ]
    },
    {
      "cell_type": "code",
      "source": [
        "X.head(1)"
      ],
      "metadata": {
        "colab": {
          "base_uri": "https://localhost:8080/",
          "height": 81
        },
        "id": "BJsHE6Qovo7K",
        "outputId": "4dd20b05-8b9e-4665-f5a8-01d48574f652"
      },
      "id": "BJsHE6Qovo7K",
      "execution_count": 40,
      "outputs": [
        {
          "output_type": "execute_result",
          "data": {
            "text/plain": [
              "      Maker     Model     Year  Colour  Distance  Abuja  Ibadan  Lagos  \\\n",
              "0 -1.376432 -1.445184  0.99456      16  0.204384    1.0     0.0    0.0   \n",
              "\n",
              "   Nigerian Used  Foreign Used  Brand New  \n",
              "0            0.0           0.0        1.0  "
            ],
            "text/html": [
              "\n",
              "  <div id=\"df-5c675935-e297-4606-8bd4-92d4bbd69873\">\n",
              "    <div class=\"colab-df-container\">\n",
              "      <div>\n",
              "<style scoped>\n",
              "    .dataframe tbody tr th:only-of-type {\n",
              "        vertical-align: middle;\n",
              "    }\n",
              "\n",
              "    .dataframe tbody tr th {\n",
              "        vertical-align: top;\n",
              "    }\n",
              "\n",
              "    .dataframe thead th {\n",
              "        text-align: right;\n",
              "    }\n",
              "</style>\n",
              "<table border=\"1\" class=\"dataframe\">\n",
              "  <thead>\n",
              "    <tr style=\"text-align: right;\">\n",
              "      <th></th>\n",
              "      <th>Maker</th>\n",
              "      <th>Model</th>\n",
              "      <th>Year</th>\n",
              "      <th>Colour</th>\n",
              "      <th>Distance</th>\n",
              "      <th>Abuja</th>\n",
              "      <th>Ibadan</th>\n",
              "      <th>Lagos</th>\n",
              "      <th>Nigerian Used</th>\n",
              "      <th>Foreign Used</th>\n",
              "      <th>Brand New</th>\n",
              "    </tr>\n",
              "  </thead>\n",
              "  <tbody>\n",
              "    <tr>\n",
              "      <th>0</th>\n",
              "      <td>-1.376432</td>\n",
              "      <td>-1.445184</td>\n",
              "      <td>0.99456</td>\n",
              "      <td>16</td>\n",
              "      <td>0.204384</td>\n",
              "      <td>1.0</td>\n",
              "      <td>0.0</td>\n",
              "      <td>0.0</td>\n",
              "      <td>0.0</td>\n",
              "      <td>0.0</td>\n",
              "      <td>1.0</td>\n",
              "    </tr>\n",
              "  </tbody>\n",
              "</table>\n",
              "</div>\n",
              "      <button class=\"colab-df-convert\" onclick=\"convertToInteractive('df-5c675935-e297-4606-8bd4-92d4bbd69873')\"\n",
              "              title=\"Convert this dataframe to an interactive table.\"\n",
              "              style=\"display:none;\">\n",
              "        \n",
              "  <svg xmlns=\"http://www.w3.org/2000/svg\" height=\"24px\"viewBox=\"0 0 24 24\"\n",
              "       width=\"24px\">\n",
              "    <path d=\"M0 0h24v24H0V0z\" fill=\"none\"/>\n",
              "    <path d=\"M18.56 5.44l.94 2.06.94-2.06 2.06-.94-2.06-.94-.94-2.06-.94 2.06-2.06.94zm-11 1L8.5 8.5l.94-2.06 2.06-.94-2.06-.94L8.5 2.5l-.94 2.06-2.06.94zm10 10l.94 2.06.94-2.06 2.06-.94-2.06-.94-.94-2.06-.94 2.06-2.06.94z\"/><path d=\"M17.41 7.96l-1.37-1.37c-.4-.4-.92-.59-1.43-.59-.52 0-1.04.2-1.43.59L10.3 9.45l-7.72 7.72c-.78.78-.78 2.05 0 2.83L4 21.41c.39.39.9.59 1.41.59.51 0 1.02-.2 1.41-.59l7.78-7.78 2.81-2.81c.8-.78.8-2.07 0-2.86zM5.41 20L4 18.59l7.72-7.72 1.47 1.35L5.41 20z\"/>\n",
              "  </svg>\n",
              "      </button>\n",
              "      \n",
              "  <style>\n",
              "    .colab-df-container {\n",
              "      display:flex;\n",
              "      flex-wrap:wrap;\n",
              "      gap: 12px;\n",
              "    }\n",
              "\n",
              "    .colab-df-convert {\n",
              "      background-color: #E8F0FE;\n",
              "      border: none;\n",
              "      border-radius: 50%;\n",
              "      cursor: pointer;\n",
              "      display: none;\n",
              "      fill: #1967D2;\n",
              "      height: 32px;\n",
              "      padding: 0 0 0 0;\n",
              "      width: 32px;\n",
              "    }\n",
              "\n",
              "    .colab-df-convert:hover {\n",
              "      background-color: #E2EBFA;\n",
              "      box-shadow: 0px 1px 2px rgba(60, 64, 67, 0.3), 0px 1px 3px 1px rgba(60, 64, 67, 0.15);\n",
              "      fill: #174EA6;\n",
              "    }\n",
              "\n",
              "    [theme=dark] .colab-df-convert {\n",
              "      background-color: #3B4455;\n",
              "      fill: #D2E3FC;\n",
              "    }\n",
              "\n",
              "    [theme=dark] .colab-df-convert:hover {\n",
              "      background-color: #434B5C;\n",
              "      box-shadow: 0px 1px 3px 1px rgba(0, 0, 0, 0.15);\n",
              "      filter: drop-shadow(0px 1px 2px rgba(0, 0, 0, 0.3));\n",
              "      fill: #FFFFFF;\n",
              "    }\n",
              "  </style>\n",
              "\n",
              "      <script>\n",
              "        const buttonEl =\n",
              "          document.querySelector('#df-5c675935-e297-4606-8bd4-92d4bbd69873 button.colab-df-convert');\n",
              "        buttonEl.style.display =\n",
              "          google.colab.kernel.accessAllowed ? 'block' : 'none';\n",
              "\n",
              "        async function convertToInteractive(key) {\n",
              "          const element = document.querySelector('#df-5c675935-e297-4606-8bd4-92d4bbd69873');\n",
              "          const dataTable =\n",
              "            await google.colab.kernel.invokeFunction('convertToInteractive',\n",
              "                                                     [key], {});\n",
              "          if (!dataTable) return;\n",
              "\n",
              "          const docLinkHtml = 'Like what you see? Visit the ' +\n",
              "            '<a target=\"_blank\" href=https://colab.research.google.com/notebooks/data_table.ipynb>data table notebook</a>'\n",
              "            + ' to learn more about interactive tables.';\n",
              "          element.innerHTML = '';\n",
              "          dataTable['output_type'] = 'display_data';\n",
              "          await google.colab.output.renderOutput(dataTable, element);\n",
              "          const docLink = document.createElement('div');\n",
              "          docLink.innerHTML = docLinkHtml;\n",
              "          element.appendChild(docLink);\n",
              "        }\n",
              "      </script>\n",
              "    </div>\n",
              "  </div>\n",
              "  "
            ]
          },
          "metadata": {},
          "execution_count": 40
        }
      ]
    },
    {
      "cell_type": "code",
      "source": [
        "plt.scatter(X['Year'], y)\n",
        "plt.title('correlation of the Year and the target (Amount)')\n",
        "plt.xlabel('Amount (Million)')\n",
        "plt.ylabel('Years')\n",
        "plt.show()"
      ],
      "metadata": {
        "colab": {
          "base_uri": "https://localhost:8080/",
          "height": 295
        },
        "id": "IkisKTZzvlBc",
        "outputId": "fcec17bb-8012-450a-d21c-c2f912493f6b"
      },
      "id": "IkisKTZzvlBc",
      "execution_count": 60,
      "outputs": [
        {
          "output_type": "display_data",
          "data": {
            "text/plain": [
              "<Figure size 432x288 with 1 Axes>"
            ],
            "image/png": "[encoded data removed]"
          },
          "metadata": {
            "needs_background": "light"
          }
        }
      ]
    },
    {
      "cell_type": "code",
      "execution_count": null,
      "id": "f52bdf67",
      "metadata": {
        "scrolled": true,
        "id": "f52bdf67",
        "outputId": "a620a921-9ded-4033-f39a-d90e54e56dda"
      },
      "outputs": [
        {
          "data": {
            "text/plain": [
              "Maker               0\n",
              "Model               0\n",
              "Year                0\n",
              "Colour              0\n",
              "Distance         1148\n",
              "Abuja               0\n",
              "Ibadan              0\n",
              "Lagos               0\n",
              "Nigerian Used       0\n",
              "Foreign Used        0\n",
              "Brand New           0\n",
              "dtype: int64"
            ]
          },
          "execution_count": 19,
          "metadata": {},
          "output_type": "execute_result"
        }
      ],
      "source": [
        "X.isnull().sum()"
      ]
    },
    {
      "cell_type": "code",
      "execution_count": null,
      "id": "2682b921",
      "metadata": {
        "id": "2682b921"
      },
      "outputs": [],
      "source": [
        "X_train, X_test, y_train, y_test = train_test_split(X, y, random_state = 1)"
      ]
    },
    {
      "cell_type": "code",
      "execution_count": null,
      "id": "923f92f0",
      "metadata": {
        "id": "923f92f0"
      },
      "outputs": [],
      "source": [
        "model1 = xgboost.XGBRegressor(random_state = 86)\n",
        "model2 = RandomForestRegressor(random_state=20)\n",
        "model3 = CatBoostRegressor(random_state = 86)\n",
        "model4 = LinearRegression()\n",
        "model5 = LGBMRegressor()\n",
        "model6 = HistGradientBoostingRegressor()\n",
        "model7 = ExtraTreesRegressor()"
      ]
    },
    {
      "cell_type": "code",
      "execution_count": null,
      "id": "82d55e16",
      "metadata": {
        "id": "82d55e16",
        "outputId": "041e264d-d52d-459d-c3cb-d0a017baae01"
      },
      "outputs": [
        {
          "name": "stdout",
          "output_type": "stream",
          "text": [
            "148.05058069522926\n"
          ]
        }
      ],
      "source": [
        "kf = KFold(n_splits = 10, shuffle = True).split(X, y)\n",
        "scores = []\n",
        "for train, test in kf:\n",
        "    model1.fit(X.loc[train], y.loc[train])\n",
        "    scores.append(mean_squared_error(model1.predict(X.loc[test]), y.loc[test]))\n",
        "print(np.mean(scores))"
      ]
    },
    {
      "cell_type": "code",
      "execution_count": null,
      "id": "76824cea",
      "metadata": {
        "id": "76824cea",
        "outputId": "10161819-f813-4e02-9c0c-5fe428a0e871"
      },
      "outputs": [
        {
          "data": {
            "text/plain": [
              "Maker              0\n",
              "Model              0\n",
              "Year               0\n",
              "Colour             0\n",
              "Distance         860\n",
              "Abuja              0\n",
              "Ibadan             0\n",
              "Lagos              0\n",
              "Nigerian Used      0\n",
              "Foreign Used       0\n",
              "Brand New          0\n",
              "dtype: int64"
            ]
          },
          "execution_count": 23,
          "metadata": {},
          "output_type": "execute_result"
        }
      ],
      "source": [
        "X_train.isnull().sum()"
      ]
    },
    {
      "cell_type": "code",
      "execution_count": null,
      "id": "afd988c9",
      "metadata": {
        "id": "afd988c9",
        "outputId": "fca09b49-0a23-49e4-bbd5-0d411da6c32d"
      },
      "outputs": [
        {
          "ename": "ValueError",
          "evalue": "Input contains NaN, infinity or a value too large for dtype('float32').",
          "output_type": "error",
          "traceback": [
            "\u001b[1;31m---------------------------------------------------------------------------\u001b[0m",
            "\u001b[1;31mValueError\u001b[0m                                Traceback (most recent call last)",
            "Input \u001b[1;32mIn [24]\u001b[0m, in \u001b[0;36m<cell line: 2>\u001b[1;34m()\u001b[0m\n\u001b[0;32m      1\u001b[0m mse \u001b[38;5;241m=\u001b[39m []\n\u001b[0;32m      2\u001b[0m \u001b[38;5;28;01mfor\u001b[39;00m i \u001b[38;5;129;01min\u001b[39;00m [model1, model2, model3,model4, model5, model6, model7]:\n\u001b[1;32m----> 3\u001b[0m     \u001b[43mi\u001b[49m\u001b[38;5;241;43m.\u001b[39;49m\u001b[43mfit\u001b[49m\u001b[43m(\u001b[49m\u001b[43mX_train\u001b[49m\u001b[43m,\u001b[49m\u001b[43m \u001b[49m\u001b[43my_train\u001b[49m\u001b[43m)\u001b[49m\n\u001b[0;32m      4\u001b[0m     pre \u001b[38;5;241m=\u001b[39m i\u001b[38;5;241m.\u001b[39mpredict(X_test)\n\u001b[0;32m      5\u001b[0m     mse\u001b[38;5;241m.\u001b[39mappend(mean_squared_error(pre, y_test, squared \u001b[38;5;241m=\u001b[39m \u001b[38;5;28;01mFalse\u001b[39;00m))\n",
            "File \u001b[1;32mC:\\ProgramData\\Anaconda3\\lib\\site-packages\\sklearn\\ensemble\\_forest.py:327\u001b[0m, in \u001b[0;36mBaseForest.fit\u001b[1;34m(self, X, y, sample_weight)\u001b[0m\n\u001b[0;32m    325\u001b[0m \u001b[38;5;28;01mif\u001b[39;00m issparse(y):\n\u001b[0;32m    326\u001b[0m     \u001b[38;5;28;01mraise\u001b[39;00m \u001b[38;5;167;01mValueError\u001b[39;00m(\u001b[38;5;124m\"\u001b[39m\u001b[38;5;124msparse multilabel-indicator for y is not supported.\u001b[39m\u001b[38;5;124m\"\u001b[39m)\n\u001b[1;32m--> 327\u001b[0m X, y \u001b[38;5;241m=\u001b[39m \u001b[38;5;28;43mself\u001b[39;49m\u001b[38;5;241;43m.\u001b[39;49m\u001b[43m_validate_data\u001b[49m\u001b[43m(\u001b[49m\n\u001b[0;32m    328\u001b[0m \u001b[43m    \u001b[49m\u001b[43mX\u001b[49m\u001b[43m,\u001b[49m\u001b[43m \u001b[49m\u001b[43my\u001b[49m\u001b[43m,\u001b[49m\u001b[43m \u001b[49m\u001b[43mmulti_output\u001b[49m\u001b[38;5;241;43m=\u001b[39;49m\u001b[38;5;28;43;01mTrue\u001b[39;49;00m\u001b[43m,\u001b[49m\u001b[43m \u001b[49m\u001b[43maccept_sparse\u001b[49m\u001b[38;5;241;43m=\u001b[39;49m\u001b[38;5;124;43m\"\u001b[39;49m\u001b[38;5;124;43mcsc\u001b[39;49m\u001b[38;5;124;43m\"\u001b[39;49m\u001b[43m,\u001b[49m\u001b[43m \u001b[49m\u001b[43mdtype\u001b[49m\u001b[38;5;241;43m=\u001b[39;49m\u001b[43mDTYPE\u001b[49m\n\u001b[0;32m    329\u001b[0m \u001b[43m\u001b[49m\u001b[43m)\u001b[49m\n\u001b[0;32m    330\u001b[0m \u001b[38;5;28;01mif\u001b[39;00m sample_weight \u001b[38;5;129;01mis\u001b[39;00m \u001b[38;5;129;01mnot\u001b[39;00m \u001b[38;5;28;01mNone\u001b[39;00m:\n\u001b[0;32m    331\u001b[0m     sample_weight \u001b[38;5;241m=\u001b[39m _check_sample_weight(sample_weight, X)\n",
            "File \u001b[1;32mC:\\ProgramData\\Anaconda3\\lib\\site-packages\\sklearn\\base.py:581\u001b[0m, in \u001b[0;36mBaseEstimator._validate_data\u001b[1;34m(self, X, y, reset, validate_separately, **check_params)\u001b[0m\n\u001b[0;32m    579\u001b[0m         y \u001b[38;5;241m=\u001b[39m check_array(y, \u001b[38;5;241m*\u001b[39m\u001b[38;5;241m*\u001b[39mcheck_y_params)\n\u001b[0;32m    580\u001b[0m     \u001b[38;5;28;01melse\u001b[39;00m:\n\u001b[1;32m--> 581\u001b[0m         X, y \u001b[38;5;241m=\u001b[39m check_X_y(X, y, \u001b[38;5;241m*\u001b[39m\u001b[38;5;241m*\u001b[39mcheck_params)\n\u001b[0;32m    582\u001b[0m     out \u001b[38;5;241m=\u001b[39m X, y\n\u001b[0;32m    584\u001b[0m \u001b[38;5;28;01mif\u001b[39;00m \u001b[38;5;129;01mnot\u001b[39;00m no_val_X \u001b[38;5;129;01mand\u001b[39;00m check_params\u001b[38;5;241m.\u001b[39mget(\u001b[38;5;124m\"\u001b[39m\u001b[38;5;124mensure_2d\u001b[39m\u001b[38;5;124m\"\u001b[39m, \u001b[38;5;28;01mTrue\u001b[39;00m):\n",
            "File \u001b[1;32mC:\\ProgramData\\Anaconda3\\lib\\site-packages\\sklearn\\utils\\validation.py:964\u001b[0m, in \u001b[0;36mcheck_X_y\u001b[1;34m(X, y, accept_sparse, accept_large_sparse, dtype, order, copy, force_all_finite, ensure_2d, allow_nd, multi_output, ensure_min_samples, ensure_min_features, y_numeric, estimator)\u001b[0m\n\u001b[0;32m    961\u001b[0m \u001b[38;5;28;01mif\u001b[39;00m y \u001b[38;5;129;01mis\u001b[39;00m \u001b[38;5;28;01mNone\u001b[39;00m:\n\u001b[0;32m    962\u001b[0m     \u001b[38;5;28;01mraise\u001b[39;00m \u001b[38;5;167;01mValueError\u001b[39;00m(\u001b[38;5;124m\"\u001b[39m\u001b[38;5;124my cannot be None\u001b[39m\u001b[38;5;124m\"\u001b[39m)\n\u001b[1;32m--> 964\u001b[0m X \u001b[38;5;241m=\u001b[39m \u001b[43mcheck_array\u001b[49m\u001b[43m(\u001b[49m\n\u001b[0;32m    965\u001b[0m \u001b[43m    \u001b[49m\u001b[43mX\u001b[49m\u001b[43m,\u001b[49m\n\u001b[0;32m    966\u001b[0m \u001b[43m    \u001b[49m\u001b[43maccept_sparse\u001b[49m\u001b[38;5;241;43m=\u001b[39;49m\u001b[43maccept_sparse\u001b[49m\u001b[43m,\u001b[49m\n\u001b[0;32m    967\u001b[0m \u001b[43m    \u001b[49m\u001b[43maccept_large_sparse\u001b[49m\u001b[38;5;241;43m=\u001b[39;49m\u001b[43maccept_large_sparse\u001b[49m\u001b[43m,\u001b[49m\n\u001b[0;32m    968\u001b[0m \u001b[43m    \u001b[49m\u001b[43mdtype\u001b[49m\u001b[38;5;241;43m=\u001b[39;49m\u001b[43mdtype\u001b[49m\u001b[43m,\u001b[49m\n\u001b[0;32m    969\u001b[0m \u001b[43m    \u001b[49m\u001b[43morder\u001b[49m\u001b[38;5;241;43m=\u001b[39;49m\u001b[43morder\u001b[49m\u001b[43m,\u001b[49m\n\u001b[0;32m    970\u001b[0m \u001b[43m    \u001b[49m\u001b[43mcopy\u001b[49m\u001b[38;5;241;43m=\u001b[39;49m\u001b[43mcopy\u001b[49m\u001b[43m,\u001b[49m\n\u001b[0;32m    971\u001b[0m \u001b[43m    \u001b[49m\u001b[43mforce_all_finite\u001b[49m\u001b[38;5;241;43m=\u001b[39;49m\u001b[43mforce_all_finite\u001b[49m\u001b[43m,\u001b[49m\n\u001b[0;32m    972\u001b[0m \u001b[43m    \u001b[49m\u001b[43mensure_2d\u001b[49m\u001b[38;5;241;43m=\u001b[39;49m\u001b[43mensure_2d\u001b[49m\u001b[43m,\u001b[49m\n\u001b[0;32m    973\u001b[0m \u001b[43m    \u001b[49m\u001b[43mallow_nd\u001b[49m\u001b[38;5;241;43m=\u001b[39;49m\u001b[43mallow_nd\u001b[49m\u001b[43m,\u001b[49m\n\u001b[0;32m    974\u001b[0m \u001b[43m    \u001b[49m\u001b[43mensure_min_samples\u001b[49m\u001b[38;5;241;43m=\u001b[39;49m\u001b[43mensure_min_samples\u001b[49m\u001b[43m,\u001b[49m\n\u001b[0;32m    975\u001b[0m \u001b[43m    \u001b[49m\u001b[43mensure_min_features\u001b[49m\u001b[38;5;241;43m=\u001b[39;49m\u001b[43mensure_min_features\u001b[49m\u001b[43m,\u001b[49m\n\u001b[0;32m    976\u001b[0m \u001b[43m    \u001b[49m\u001b[43mestimator\u001b[49m\u001b[38;5;241;43m=\u001b[39;49m\u001b[43mestimator\u001b[49m\u001b[43m,\u001b[49m\n\u001b[0;32m    977\u001b[0m \u001b[43m\u001b[49m\u001b[43m)\u001b[49m\n\u001b[0;32m    979\u001b[0m y \u001b[38;5;241m=\u001b[39m _check_y(y, multi_output\u001b[38;5;241m=\u001b[39mmulti_output, y_numeric\u001b[38;5;241m=\u001b[39my_numeric)\n\u001b[0;32m    981\u001b[0m check_consistent_length(X, y)\n",
            "File \u001b[1;32mC:\\ProgramData\\Anaconda3\\lib\\site-packages\\sklearn\\utils\\validation.py:800\u001b[0m, in \u001b[0;36mcheck_array\u001b[1;34m(array, accept_sparse, accept_large_sparse, dtype, order, copy, force_all_finite, ensure_2d, allow_nd, ensure_min_samples, ensure_min_features, estimator)\u001b[0m\n\u001b[0;32m    794\u001b[0m         \u001b[38;5;28;01mraise\u001b[39;00m \u001b[38;5;167;01mValueError\u001b[39;00m(\n\u001b[0;32m    795\u001b[0m             \u001b[38;5;124m\"\u001b[39m\u001b[38;5;124mFound array with dim \u001b[39m\u001b[38;5;132;01m%d\u001b[39;00m\u001b[38;5;124m. \u001b[39m\u001b[38;5;132;01m%s\u001b[39;00m\u001b[38;5;124m expected <= 2.\u001b[39m\u001b[38;5;124m\"\u001b[39m\n\u001b[0;32m    796\u001b[0m             \u001b[38;5;241m%\u001b[39m (array\u001b[38;5;241m.\u001b[39mndim, estimator_name)\n\u001b[0;32m    797\u001b[0m         )\n\u001b[0;32m    799\u001b[0m     \u001b[38;5;28;01mif\u001b[39;00m force_all_finite:\n\u001b[1;32m--> 800\u001b[0m         \u001b[43m_assert_all_finite\u001b[49m\u001b[43m(\u001b[49m\u001b[43marray\u001b[49m\u001b[43m,\u001b[49m\u001b[43m \u001b[49m\u001b[43mallow_nan\u001b[49m\u001b[38;5;241;43m=\u001b[39;49m\u001b[43mforce_all_finite\u001b[49m\u001b[43m \u001b[49m\u001b[38;5;241;43m==\u001b[39;49m\u001b[43m \u001b[49m\u001b[38;5;124;43m\"\u001b[39;49m\u001b[38;5;124;43mallow-nan\u001b[39;49m\u001b[38;5;124;43m\"\u001b[39;49m\u001b[43m)\u001b[49m\n\u001b[0;32m    802\u001b[0m \u001b[38;5;28;01mif\u001b[39;00m ensure_min_samples \u001b[38;5;241m>\u001b[39m \u001b[38;5;241m0\u001b[39m:\n\u001b[0;32m    803\u001b[0m     n_samples \u001b[38;5;241m=\u001b[39m _num_samples(array)\n",
            "File \u001b[1;32mC:\\ProgramData\\Anaconda3\\lib\\site-packages\\sklearn\\utils\\validation.py:114\u001b[0m, in \u001b[0;36m_assert_all_finite\u001b[1;34m(X, allow_nan, msg_dtype)\u001b[0m\n\u001b[0;32m    107\u001b[0m     \u001b[38;5;28;01mif\u001b[39;00m (\n\u001b[0;32m    108\u001b[0m         allow_nan\n\u001b[0;32m    109\u001b[0m         \u001b[38;5;129;01mand\u001b[39;00m np\u001b[38;5;241m.\u001b[39misinf(X)\u001b[38;5;241m.\u001b[39many()\n\u001b[0;32m    110\u001b[0m         \u001b[38;5;129;01mor\u001b[39;00m \u001b[38;5;129;01mnot\u001b[39;00m allow_nan\n\u001b[0;32m    111\u001b[0m         \u001b[38;5;129;01mand\u001b[39;00m \u001b[38;5;129;01mnot\u001b[39;00m np\u001b[38;5;241m.\u001b[39misfinite(X)\u001b[38;5;241m.\u001b[39mall()\n\u001b[0;32m    112\u001b[0m     ):\n\u001b[0;32m    113\u001b[0m         type_err \u001b[38;5;241m=\u001b[39m \u001b[38;5;124m\"\u001b[39m\u001b[38;5;124minfinity\u001b[39m\u001b[38;5;124m\"\u001b[39m \u001b[38;5;28;01mif\u001b[39;00m allow_nan \u001b[38;5;28;01melse\u001b[39;00m \u001b[38;5;124m\"\u001b[39m\u001b[38;5;124mNaN, infinity\u001b[39m\u001b[38;5;124m\"\u001b[39m\n\u001b[1;32m--> 114\u001b[0m         \u001b[38;5;28;01mraise\u001b[39;00m \u001b[38;5;167;01mValueError\u001b[39;00m(\n\u001b[0;32m    115\u001b[0m             msg_err\u001b[38;5;241m.\u001b[39mformat(\n\u001b[0;32m    116\u001b[0m                 type_err, msg_dtype \u001b[38;5;28;01mif\u001b[39;00m msg_dtype \u001b[38;5;129;01mis\u001b[39;00m \u001b[38;5;129;01mnot\u001b[39;00m \u001b[38;5;28;01mNone\u001b[39;00m \u001b[38;5;28;01melse\u001b[39;00m X\u001b[38;5;241m.\u001b[39mdtype\n\u001b[0;32m    117\u001b[0m             )\n\u001b[0;32m    118\u001b[0m         )\n\u001b[0;32m    119\u001b[0m \u001b[38;5;66;03m# for object dtype data, we only check for NaNs (GH-13254)\u001b[39;00m\n\u001b[0;32m    120\u001b[0m \u001b[38;5;28;01melif\u001b[39;00m X\u001b[38;5;241m.\u001b[39mdtype \u001b[38;5;241m==\u001b[39m np\u001b[38;5;241m.\u001b[39mdtype(\u001b[38;5;124m\"\u001b[39m\u001b[38;5;124mobject\u001b[39m\u001b[38;5;124m\"\u001b[39m) \u001b[38;5;129;01mand\u001b[39;00m \u001b[38;5;129;01mnot\u001b[39;00m allow_nan:\n",
            "\u001b[1;31mValueError\u001b[0m: Input contains NaN, infinity or a value too large for dtype('float32')."
          ]
        }
      ],
      "source": [
        "mse = []\n",
        "for i in [model1, model2, model3,model4, model5, model6, model7]:\n",
        "    i.fit(X_train, y_train)\n",
        "    pre = i.predict(X_test)\n",
        "    mse.append(mean_squared_error(pre, y_test, squared = False))\n"
      ]
    },
    {
      "cell_type": "code",
      "execution_count": null,
      "id": "4b03e53f",
      "metadata": {
        "id": "4b03e53f"
      },
      "outputs": [],
      "source": [
        "print(mse)"
      ]
    },
    {
      "cell_type": "code",
      "execution_count": null,
      "id": "879d1c12",
      "metadata": {
        "id": "879d1c12"
      },
      "outputs": [],
      "source": [
        "model = VotingRegressor([('model1', model1),('modelf', model2), ('model3', model3), ('model4', model4), ('model6', model6), ('model7', model7)],weights=(0.6,0.5,1,0.4, 0.5, 0.5))\n",
        "model.fit(X_train, y_train)\n",
        "val_pred = model.predict(X_test)\n",
        "np.mean(mean_squared_error(y_test,val_pred, squared = False))"
      ]
    },
    {
      "cell_type": "code",
      "execution_count": null,
      "id": "4d13018a",
      "metadata": {
        "id": "4d13018a"
      },
      "outputs": [],
      "source": [
        "# modell = StackingRegressor(estimators = [('model1', model1),('modelf', model2), ('model3', model3), ('model4', model4), ('model5', model5), ('model6', model6), ('model7', model7)], final_estimator = model)\n",
        "# modell.fit(X_train, y_train)\n",
        "# val_pred = modell.predict(X_test)\n",
        "# np.mean(mean_squared_error(y_test,val_pred, squared = False))"
      ]
    },
    {
      "cell_type": "code",
      "execution_count": null,
      "id": "2d9d4a44",
      "metadata": {
        "id": "2d9d4a44"
      },
      "outputs": [],
      "source": [
        "testing.info()"
      ]
    },
    {
      "cell_type": "code",
      "execution_count": null,
      "id": "c6615dcb",
      "metadata": {
        "scrolled": true,
        "id": "c6615dcb"
      },
      "outputs": [],
      "source": [
        "pre = model.predict(testing)"
      ]
    },
    {
      "cell_type": "code",
      "execution_count": null,
      "id": "2922f175",
      "metadata": {
        "id": "2922f175"
      },
      "outputs": [],
      "source": [
        "submission['Amount (Million Naira)'] = pre"
      ]
    },
    {
      "cell_type": "code",
      "execution_count": null,
      "id": "4b6c61d7",
      "metadata": {
        "id": "4b6c61d7"
      },
      "outputs": [],
      "source": [
        "submission.to_csv('greatmotorsubmission.csv', index = False)"
      ]
    },
    {
      "cell_type": "markdown",
      "id": "4f8da8d1",
      "metadata": {
        "id": "4f8da8d1"
      },
      "source": [
        "# Visualization"
      ]
    },
    {
      "cell_type": "code",
      "execution_count": null,
      "id": "ee1ab05c",
      "metadata": {
        "id": "ee1ab05c"
      },
      "outputs": [],
      "source": [
        "for i in training.columns:\n",
        "    plt.plot(training['Amount (Million Naira)'], training[i], 'o')\n",
        "    plt.title(i)\n",
        "    plt.xlabel('Amount')\n",
        "    plt.ylabel(i)\n",
        "    plt.show()"
      ]
    },
    {
      "cell_type": "code",
      "execution_count": null,
      "id": "8fa7fa81",
      "metadata": {
        "id": "8fa7fa81"
      },
      "outputs": [],
      "source": [
        "X = training.drop('Amount (Million Naira)', axis = 1)\n",
        "X['Distancesq'] = training.Distance ** 2\n",
        "X['Distancecb'] = training.Distance ** 3\n",
        "X['Yearsq'] = training['Year'] ** 2\n",
        "X['Yearcb'] = training['Year'] ** 3\n",
        "testing['Distancesq'] = testing.Distance ** 2\n",
        "testing['Distancecb'] = testing.Distance ** 3\n",
        "testing['Yearsq'] = testing['Year'] ** 2\n",
        "testing['Yearcb'] = testing['Year'] ** 3\n",
        "y = training['Amount (Million Naira)']"
      ]
    },
    {
      "cell_type": "code",
      "execution_count": null,
      "id": "7782f49d",
      "metadata": {
        "id": "7782f49d"
      },
      "outputs": [],
      "source": [
        "X_train, X_test, y_train, y_test = train_test_split(X, y, random_state = 1)"
      ]
    },
    {
      "cell_type": "code",
      "execution_count": null,
      "id": "05731c6c",
      "metadata": {
        "id": "05731c6c"
      },
      "outputs": [],
      "source": [
        "mse = []\n",
        "for i in [model1, model2, model3,model4, model5, model6, model7]:\n",
        "    i.fit(X_train, y_train)\n",
        "    pre = i.predict(X_test)\n",
        "    mse.append(mean_squared_error(pre, y_test, squared = False))\n"
      ]
    },
    {
      "cell_type": "code",
      "execution_count": null,
      "id": "e958e9da",
      "metadata": {
        "id": "e958e9da"
      },
      "outputs": [],
      "source": [
        "mse"
      ]
    },
    {
      "cell_type": "code",
      "execution_count": null,
      "id": "dd149c5c",
      "metadata": {
        "id": "dd149c5c"
      },
      "outputs": [],
      "source": [
        "model = VotingRegressor([('model1', model1),('modelf', model3), ('model4', model4)],weights=(1,1,0.5))\n",
        "model.fit(X_train, y_train)\n",
        "val_pred = model.predict(X_test)\n",
        "np.mean(mean_squared_error(y_test,val_pred, squared = False))"
      ]
    },
    {
      "cell_type": "code",
      "execution_count": null,
      "id": "d8554f04",
      "metadata": {
        "id": "d8554f04"
      },
      "outputs": [],
      "source": [
        "pre = model3.predict(testing)"
      ]
    },
    {
      "cell_type": "code",
      "execution_count": null,
      "id": "0067658d",
      "metadata": {
        "id": "0067658d"
      },
      "outputs": [],
      "source": [
        "submission['Amount (Million Naira)'] = pre"
      ]
    },
    {
      "cell_type": "code",
      "execution_count": null,
      "id": "291fd37f",
      "metadata": {
        "id": "291fd37f"
      },
      "outputs": [],
      "source": [
        "submission.to_csv('greatmotorsubmission4.csv', index = False)"
      ]
    },
    {
      "cell_type": "code",
      "execution_count": null,
      "id": "c2c6fcde",
      "metadata": {
        "id": "c2c6fcde"
      },
      "outputs": [],
      "source": []
    },
    {
      "cell_type": "code",
      "execution_count": null,
      "id": "54b2ef44",
      "metadata": {
        "id": "54b2ef44"
      },
      "outputs": [],
      "source": []
    }
  ],
  "metadata": {
    "kernelspec": {
      "display_name": "Python 3 (ipykernel)",
      "language": "python",
      "name": "python3"
    },
    "language_info": {
      "codemirror_mode": {
        "name": "ipython",
        "version": 3
      },
      "file_extension": ".py",
      "mimetype": "text/x-python",
      "name": "python",
      "nbconvert_exporter": "python",
      "pygments_lexer": "ipython3",
      "version": "3.9.13"
    },
    "colab": {
      "provenance": [],
      "include_colab_link": true
    }
  },
  "nbformat": 4,
  "nbformat_minor": 5
}